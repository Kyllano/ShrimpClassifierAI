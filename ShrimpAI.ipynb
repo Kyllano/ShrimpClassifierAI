{
  "nbformat": 4,
  "nbformat_minor": 0,
  "metadata": {
    "colab": {
      "provenance": []
    },
    "kernelspec": {
      "name": "python3",
      "display_name": "Python 3"
    },
    "language_info": {
      "name": "python"
    }
  },
  "cells": [
    {
      "cell_type": "markdown",
      "source": [
        "# Préambule\n",
        "Trouvez ce notebook à l'adresse https://colab.research.google.com/drive/1TgDBRC3YY5paW5EWIcTct0fAIk_9JRyk?usp=sharing.\n",
        "\n",
        "Pour effectuer une prédiction, executez d'abord la première cellule."
      ],
      "metadata": {
        "id": "ui5JFWtckELm"
      }
    },
    {
      "cell_type": "code",
      "execution_count": null,
      "metadata": {
        "id": "B_O4lYNsa7DF"
      },
      "outputs": [],
      "source": [
        "!pip install -Uqq fastbook\n",
        "!pip install -Uqq fastai\n",
        "!wget --load-cookies /tmp/cookies.txt \"https://docs.google.com/uc?export=download&confirm=$(wget --quiet --save-cookies /tmp/cookies.txt --keep-session-cookies --no-check-certificate 'https://docs.google.com/uc?export=download&id=1lLUJ0S3V4bPVR-MQXVptBguD-XGjjxX7' -O- | sed -rn 's/.*confirm=([0-9A-Za-z_]+).*/\\1\\n/p')&id=1lLUJ0S3V4bPVR-MQXVptBguD-XGjjxX7\" -O export.pkl && rm -rf /tmp/cookies.txt\n",
        "from fastai.vision.all import *\n",
        "from fastai.vision.widgets import *\n",
        "from fastbook import *\n",
        "\n",
        "learn = load_learner(\"export.pkl\")"
      ]
    },
    {
      "cell_type": "markdown",
      "source": [
        "# Predictions\n",
        "Pour effectuer une prédiction, lancez d'abord la première cellule, uploadez votre image, puis lancez la seconde cellule. Répteter ceci à chaque nouvelle prédiction\n",
        "\n",
        "L'IA vous annoncera alors votre prédiction"
      ],
      "metadata": {
        "id": "yRsw3w-8ki9q"
      }
    },
    {
      "cell_type": "code",
      "source": [
        "uploader = widgets.FileUpload()\n",
        "uploader"
      ],
      "metadata": {
        "id": "z0RRXz-abXS6"
      },
      "execution_count": null,
      "outputs": []
    },
    {
      "cell_type": "code",
      "source": [
        "img = PILImage.create(uploader.data[0])\n",
        "nom, id, prob = learn.predict(img)\n",
        "#Malheuresement on n'utilise pas python 3.10 donc je ne peut pas faire de match\n",
        "\"\"\"\n",
        "match (nom) :\n",
        "  case \"Atya gabonensis\" :\n",
        "    surnom = \"Vampire shrimp\"\n",
        "  case \"Lysmata amboinensis\" :\n",
        "    surnom = \"Cleaner shrimp\"\n",
        "  case \"Thor amboinensis\":\n",
        "    surnom = \"Sexy shrimp\"\n",
        "  case \"neocaridina davidi red cherry\" :\n",
        "    surnom = \"Red Cherry shrimp\"\n",
        "\"\"\"\n",
        "\n",
        "print(prob[0])\n",
        "\n",
        "if nom == \"Atya gabonensis\" :\n",
        "  surnom = \"Vampire shrimp\"\n",
        "elif nom == \"Lysmata amboinensis\" :\n",
        "  surnom = \"Cleaner shrimp\"\n",
        "elif nom == \"Thor amboinensis\":\n",
        "  surnom = \"Sexy shrimp\"\n",
        "elif nom == \"neocaridina davidi red cherry\" :\n",
        "  surnom = \"Red Cherry shrimp\"\n",
        "else :\n",
        "  surnom = \"Inconnu\"\n",
        "  \n",
        "print(\"L'IA devine que vous avez uploadé une\", nom, \"aussi appelée\", surnom, \"(avec\", float(str(prob[id])[12:-1])*100, \"% de certitude)\\n\\n\")\n",
        "img"
      ],
      "metadata": {
        "id": "zHXYrenzbkBs"
      },
      "execution_count": null,
      "outputs": []
    }
  ]
}